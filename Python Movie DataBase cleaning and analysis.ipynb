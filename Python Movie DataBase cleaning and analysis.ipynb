{
 "cells": [
  {
   "cell_type": "code",
   "execution_count": null,
   "id": "dd290262",
   "metadata": {},
   "outputs": [],
   "source": [
    "#Setting up the project\n",
    "\n",
    "import pandas as pd\n",
    "import numpy as np\n",
    "import seaborn as sns\n",
    "\n",
    "import matplotlib.pyplot as plt\n",
    "import matplotlib.mlab as mlab\n",
    "import matplotlib\n",
    "plt.style.use('ggplot')\n",
    "from matplotlib.pyplot import figure\n",
    "\n",
    "%matplotlib inline\n",
    "matplotlib.rcParams['figure.figsize'] = (12,8)\n",
    "\n",
    "pd.options.mode.chained_assignment = None\n",
    "\n",
    "df = pd.read_csv(r'D:\\Data Analytics\\Portfolio Alex\\archive\\movies.csv')"
   ]
  },
  {
   "cell_type": "code",
   "execution_count": null,
   "id": "16b52c2a",
   "metadata": {},
   "outputs": [],
   "source": [
    "# Taking a quick look\n",
    "\n",
    "df.head()"
   ]
  },
  {
   "cell_type": "code",
   "execution_count": null,
   "id": "620936f4",
   "metadata": {},
   "outputs": [],
   "source": [
    "#Searching for missing data\n",
    "\n",
    "for col in df.columns:\n",
    "    pct_missing = np.mean(df[col].isnull())\n",
    "    print('{} - {}'.format(col, pct_missing))"
   ]
  },
  {
   "cell_type": "code",
   "execution_count": null,
   "id": "bdac5da1",
   "metadata": {
    "scrolled": true
   },
   "outputs": [],
   "source": [
    "#Making sure the column types are accurate.\n",
    "\n",
    "df.dtypes"
   ]
  },
  {
   "cell_type": "code",
   "execution_count": null,
   "id": "f58e26dc",
   "metadata": {
    "scrolled": true
   },
   "outputs": [],
   "source": [
    "#Changing the data type to remove the unnecessary decimals polluting the table.\n",
    "df['budget'] = df['budget'].astype('int64')\n",
    "df['gross'] = df['gross'].astype('int64')\n",
    "#Update.26.09.2023\n",
    "#This database keeps getting updated, so this piece of code doesn't work\n",
    "#unless you clean the data every time."
   ]
  },
  {
   "cell_type": "code",
   "execution_count": null,
   "id": "9580fe46",
   "metadata": {},
   "outputs": [],
   "source": [
    "#Quickly taking a look to see the changes\n",
    "df"
   ]
  },
  {
   "cell_type": "code",
   "execution_count": null,
   "id": "09bcd412",
   "metadata": {},
   "outputs": [],
   "source": [
    "#The two different year related collumns are slightly different.\n",
    "#We'll create a third column from where we'll pull the proper year, when necessary.\n",
    "df['yearcorrect'] = df['released'].astype(str).str[:4]\n",
    "df"
   ]
  },
  {
   "cell_type": "code",
   "execution_count": null,
   "id": "9d339773",
   "metadata": {
    "scrolled": false
   },
   "outputs": [],
   "source": [
    "df.sort_values(by=['gross'], inplace=False, ascending=False)"
   ]
  },
  {
   "cell_type": "code",
   "execution_count": null,
   "id": "2500abb2",
   "metadata": {},
   "outputs": [],
   "source": [
    "pd.set_option('display.max_rows', None)"
   ]
  },
  {
   "cell_type": "code",
   "execution_count": null,
   "id": "ee426280",
   "metadata": {},
   "outputs": [],
   "source": [
    "#Using a scatterplot to find any corellation between the 'budget' and 'gross' columns.\n",
    "plt.scatter(x=df['budget'], y=df['gross'])\n",
    "plt.title('Budget vs Gross Earnings')\n",
    "plt.xlabel('Gross Earnings')\n",
    "plt.ylabel('Budget for Film')\n",
    "plt.show()"
   ]
  },
  {
   "cell_type": "code",
   "execution_count": null,
   "id": "26e064e8",
   "metadata": {},
   "outputs": [],
   "source": [
    "df.head()"
   ]
  },
  {
   "cell_type": "code",
   "execution_count": null,
   "id": "59d38b64",
   "metadata": {},
   "outputs": [],
   "source": [
    "#Applying Seaborn to the scatterplot and increasing the visibility for the different elements.\n",
    "sns.regplot(x='budget', y='gross', data=df, scatter_kws={\"color\": \"red\"}, line_kws={\"color\":\"blue\"})"
   ]
  },
  {
   "cell_type": "code",
   "execution_count": null,
   "id": "73548f7d",
   "metadata": {},
   "outputs": [],
   "source": [
    "#Digging deeper into the correlation. For now it seems if the budget increases, so does the gross."
   ]
  },
  {
   "cell_type": "code",
   "execution_count": null,
   "id": "55f55bd5",
   "metadata": {},
   "outputs": [],
   "source": [
    "df.corr(method='pearson') \n",
    "#I could have also used different methods, like Kendall's or Spearmen's, but \n",
    "#for this project it doesn't matter too much."
   ]
  },
  {
   "cell_type": "code",
   "execution_count": null,
   "id": "e8bf4d75",
   "metadata": {},
   "outputs": [],
   "source": [
    "#There is indeed high correlation between 'budget' and 'gross'.\n",
    "#The original theory seems good."
   ]
  },
  {
   "cell_type": "code",
   "execution_count": null,
   "id": "fbcfd84a",
   "metadata": {},
   "outputs": [],
   "source": [
    "#For more visual oriented results:\n",
    "corellation_matrix = df.corr(method='pearson')\n",
    "sns.heatmap(corellation_matrix, annot=True)\n",
    "plt.title('Correlation Matrix for Numeric Features')\n",
    "plt.xlabel('Movie Features')\n",
    "plt.ylabel('Movie Features')\n",
    "plt.show()"
   ]
  },
  {
   "cell_type": "code",
   "execution_count": null,
   "id": "7ee97241",
   "metadata": {},
   "outputs": [],
   "source": [
    "#Moving on to the 'Company' column\n",
    "df.head()"
   ]
  },
  {
   "cell_type": "code",
   "execution_count": null,
   "id": "50a16d31",
   "metadata": {},
   "outputs": [],
   "source": [
    "#Applying nummerical values to the different companies, \n",
    "#so the companies' names can be applied to the matrix\n",
    "df_numerized = df\n",
    "for col_name in df_numerized.columns:\n",
    "    if(df_numerized[col_name].dtype == 'object'):\n",
    "        df_numerized[col_name] = df_numerized[col_name].astype('category')\n",
    "        df_numerized[col_name] = df_numerized[col_name].cat.codes\n",
    "        \n",
    "df_numerized\n"
   ]
  },
  {
   "cell_type": "code",
   "execution_count": null,
   "id": "790d87e3",
   "metadata": {},
   "outputs": [],
   "source": [
    "#Checking if it worked\n",
    "df"
   ]
  },
  {
   "cell_type": "code",
   "execution_count": null,
   "id": "aaf4c4c4",
   "metadata": {},
   "outputs": [],
   "source": [
    "#Same matrix with all the newly numerized columns\n",
    "corellation_matrix = df.corr(method='pearson')\n",
    "sns.heatmap(corellation_matrix, annot=True)\n",
    "plt.title('Correlation Matrix for Numeric Features')\n",
    "plt.xlabel('Movie Features')\n",
    "plt.ylabel('Movie Features')\n",
    "plt.show()"
   ]
  },
  {
   "cell_type": "code",
   "execution_count": null,
   "id": "b3dfa248",
   "metadata": {},
   "outputs": [],
   "source": [
    "df_numerized.corr()"
   ]
  },
  {
   "cell_type": "code",
   "execution_count": null,
   "id": "aed752d8",
   "metadata": {},
   "outputs": [],
   "source": [
    "#Sorting and linearizing the matrix into simple columns for even better visibility\n",
    "\n",
    "correlation_mat = df.apply(lambda x: x.factorize()[0]).corr()\n",
    "\n",
    "corr_pairs = correlation_mat.unstack()\n",
    "\n",
    "print(corr_pairs)\n"
   ]
  },
  {
   "cell_type": "code",
   "execution_count": null,
   "id": "af00304d",
   "metadata": {},
   "outputs": [],
   "source": [
    "sorted_pairs = corr_pairs.sort_values()\n",
    "sorted_pairs"
   ]
  },
  {
   "cell_type": "code",
   "execution_count": 51,
   "id": "69442a2c",
   "metadata": {},
   "outputs": [
    {
     "data": {
      "text/plain": [
       "star         company        0.527363\n",
       "company      star           0.527363\n",
       "writer       company        0.547126\n",
       "company      writer         0.547126\n",
       "director     company        0.552420\n",
       "company      director       0.552420\n",
       "             gross          0.587727\n",
       "gross        company        0.587727\n",
       "company      name           0.591834\n",
       "name         company        0.591834\n",
       "company      year           0.601720\n",
       "year         company        0.601720\n",
       "company      released       0.607607\n",
       "released     company        0.607607\n",
       "star         writer         0.676284\n",
       "writer       star           0.676284\n",
       "star         director       0.682358\n",
       "director     star           0.682358\n",
       "name         star           0.731509\n",
       "star         name           0.731509\n",
       "             gross          0.735612\n",
       "gross        star           0.735612\n",
       "name         director       0.745905\n",
       "director     name           0.745905\n",
       "writer       director       0.748875\n",
       "director     writer         0.748875\n",
       "             gross          0.750911\n",
       "gross        director       0.750911\n",
       "star         released       0.755408\n",
       "released     star           0.755408\n",
       "year         star           0.756341\n",
       "star         year           0.756341\n",
       "director     year           0.770497\n",
       "year         director       0.770497\n",
       "director     released       0.771360\n",
       "released     director       0.771360\n",
       "name         writer         0.805801\n",
       "writer       name           0.805801\n",
       "             gross          0.806158\n",
       "gross        writer         0.806158\n",
       "writer       released       0.820646\n",
       "released     writer         0.820646\n",
       "year         writer         0.825351\n",
       "writer       year           0.825351\n",
       "name         gross          0.947324\n",
       "gross        name           0.947324\n",
       "name         released       0.959855\n",
       "released     name           0.959855\n",
       "name         year           0.965761\n",
       "year         name           0.965761\n",
       "released     gross          0.975591\n",
       "gross        released       0.975591\n",
       "year         gross          0.980873\n",
       "gross        year           0.980873\n",
       "released     year           0.994020\n",
       "year         released       0.994020\n",
       "name         name           1.000000\n",
       "company      company        1.000000\n",
       "gross        gross          1.000000\n",
       "budget       budget         1.000000\n",
       "country      country        1.000000\n",
       "star         star           1.000000\n",
       "writer       writer         1.000000\n",
       "director     director       1.000000\n",
       "votes        votes          1.000000\n",
       "score        score          1.000000\n",
       "released     released       1.000000\n",
       "year         year           1.000000\n",
       "genre        genre          1.000000\n",
       "rating       rating         1.000000\n",
       "runtime      runtime        1.000000\n",
       "yearcorrect  yearcorrect    1.000000\n",
       "dtype: float64"
      ]
     },
     "execution_count": 51,
     "metadata": {},
     "output_type": "execute_result"
    }
   ],
   "source": [
    "high_corr = sorted_pairs[(sorted_pairs) > 0.5]\n",
    "\n",
    "high_corr"
   ]
  },
  {
   "cell_type": "code",
   "execution_count": null,
   "id": "1f18a27a",
   "metadata": {},
   "outputs": [],
   "source": [
    "#End Result\n",
    "#Votes and Budgets have the highest correlation to Gross Earnings\n",
    "\n",
    "#The creator (company) matters, but way less than other things, \n",
    "#at least concerning the gross earnings. "
   ]
  }
 ],
 "metadata": {
  "kernelspec": {
   "display_name": "Python 3 (ipykernel)",
   "language": "python",
   "name": "python3"
  },
  "language_info": {
   "codemirror_mode": {
    "name": "ipython",
    "version": 3
   },
   "file_extension": ".py",
   "mimetype": "text/x-python",
   "name": "python",
   "nbconvert_exporter": "python",
   "pygments_lexer": "ipython3",
   "version": "3.10.9"
  }
 },
 "nbformat": 4,
 "nbformat_minor": 5
}
