{
 "cells": [
  {
   "cell_type": "code",
   "execution_count": 1,
   "id": "91554efb",
   "metadata": {},
   "outputs": [],
   "source": [
    "# import libraries\n",
    "\n",
    "from bs4 import BeautifulSoup\n",
    "import requests\n",
    "import smtplib\n",
    "import time\n",
    "import datetime"
   ]
  },
  {
   "cell_type": "code",
   "execution_count": 2,
   "id": "b8b16e07",
   "metadata": {},
   "outputs": [
    {
     "name": "stdout",
     "output_type": "stream",
     "text": [
      "Remington NE3870 Nano Series Lithium - Neushaar- & Detailtrimmer, Wenkbrauw & Oorhaar Trimmer\n",
      "20\n",
      "                \n",
      "                 99\n"
     ]
    }
   ],
   "source": [
    "#Extracting data by scraping the title and prices from bol.com\n",
    "\n",
    "time.sleep(3)  #pauses the execution for 3 seconds, due to bot check requirements and overflowing the site with requests.\n",
    "\n",
    "URL = ('https://www.bol.com/nl/nl/p/remington-ne3870-nano-series-lithium-neushaar-detailtrimmer-wenkbrauw-oorhaar-trimmer/9200000082451161/?promo=main_860_deals_for_you___product_1_9200000082451161&bltgh=nBv0qJZFTcCFncZZorBF-w.18_19_20.22.ProductImage')\n",
    "headers = {\"User-Agent\": \"Mozilla/5.0 (Windows NT 10.0; Win64; x64) AppleWebKit/537.36 (KHTML, like Gecko) Chrome/117.0.0.0 Safari/537.36\", \"Accept-Encoding\":\"gzip, deflate\", \"Accept\":\"text/html,application/xhtml+xml,application/xml;q=0.9,*/*;q=0.8\", \"DNT\":\"1\",\"Connection\":\"close\", \"Upgrade-Insecure-Requests\":\"1\"}\n",
    "\n",
    "page = requests.get(URL, headers=headers)\n",
    "\n",
    "soup1 = BeautifulSoup(page.content, \"html.parser\")\n",
    "\n",
    "soup2 = BeautifulSoup(soup1.prettify(), \"html.parser\")\n",
    "\n",
    "title = soup2.find('span',{'data-test':'title'}).text.strip()\n",
    "price = soup2.find('span',{'class':'promo-price'}).text.strip()\n",
    "\n",
    "print(title)\n",
    "print(price)"
   ]
  },
  {
   "cell_type": "code",
   "execution_count": 3,
   "id": "df8a6a63",
   "metadata": {},
   "outputs": [
    {
     "name": "stdout",
     "output_type": "stream",
     "text": [
      "Remington NE3870 Nano Series Lithium - Neushaar- & Detailtrimmer, Wenkbrauw & Oorhaar Trimmer\n",
      "20,99\n"
     ]
    }
   ],
   "source": [
    "#Cleaning data from the empty spaces with a regular expression\n",
    "\n",
    "import re\n",
    "\n",
    "numbers = re.findall('[0-9]+', price)\n",
    "price =','.join(numbers)\n",
    "\n",
    "print(title)\n",
    "print(price)"
   ]
  },
  {
   "cell_type": "code",
   "execution_count": 4,
   "id": "9225ddee",
   "metadata": {},
   "outputs": [],
   "source": [
    "#Creating a .csv file, where we can export the cleaned information.\n",
    "\n",
    "import datetime\n",
    "\n",
    "today = datetime.date.today()\n",
    "\n",
    "import csv \n",
    "\n",
    "header = ['Title', 'Price', 'Date']\n",
    "data = [title, price, today]\n",
    "\n",
    "#Make sure the .csv file is closed, when you execute this command!\n",
    "with open('AmazonWebScraperDataset.csv', 'w', newline='', encoding='UTF8') as f:\n",
    "    writer = csv.writer(f)\n",
    "    writer.writerow(header)\n",
    "    writer.writerow(data)"
   ]
  },
  {
   "cell_type": "code",
   "execution_count": 5,
   "id": "a21e70d6",
   "metadata": {},
   "outputs": [
    {
     "name": "stdout",
     "output_type": "stream",
     "text": [
      "                                               Title  Price        Date\n",
      "0  Remington NE3870 Nano Series Lithium - Neushaa...  20,99  2023-09-30\n"
     ]
    }
   ],
   "source": [
    "#Creating a dataframe to read the file from here\n",
    "\n",
    "import pandas as pd\n",
    "\n",
    "df = pd.read_csv(r'C:\\Users\\ioand\\AmazonWebScraperDataset.csv')\n",
    "\n",
    "print(df)"
   ]
  },
  {
   "cell_type": "code",
   "execution_count": 6,
   "id": "04ed184d",
   "metadata": {},
   "outputs": [],
   "source": [
    "#Appending the data to the .csv\n",
    "\n",
    "with open('AmazonWebScraperDataset.csv', 'a+', newline='', encoding='UTF8') as f:\n",
    "    writer = csv.writer(f)\n",
    "    writer.writerow(data)"
   ]
  },
  {
   "cell_type": "code",
   "execution_count": 7,
   "id": "d49f90c3",
   "metadata": {},
   "outputs": [],
   "source": [
    "def check_price():\n",
    "\n",
    "    URL = ('https://www.bol.com/nl/nl/p/remington-ne3870-nano-series-lithium-neushaar-detailtrimmer-wenkbrauw-oorhaar-trimmer/9200000082451161/?promo=main_860_deals_for_you___product_1_9200000082451161&bltgh=nBv0qJZFTcCFncZZorBF-w.18_19_20.22.ProductImage')\n",
    "   \n",
    "    headers = {\"User-Agent\": \"Mozilla/5.0 (Windows NT 10.0; Win64; x64) AppleWebKit/537.36 (KHTML, like Gecko) Chrome/117.0.0.0 Safari/537.36\", \"Accept-Encoding\":\"gzip, deflate\", \"Accept\":\"text/html,application/xhtml+xml,application/xml;q=0.9,*/*;q=0.8\", \"DNT\":\"1\",\"Connection\":\"close\", \"Upgrade-Insecure-Requests\":\"1\"}\n",
    "\n",
    "    page = requests.get(URL, headers=headers)\n",
    "\n",
    "    soup1 = BeautifulSoup(page.content, \"html.parser\")\n",
    "\n",
    "    soup2 = BeautifulSoup(soup1.prettify(), \"html.parser\")\n",
    "\n",
    "    title = soup2.find('span',{'data-test':'title'}).text.strip()\n",
    "    \n",
    "    price = soup2.find('span',{'class':'promo-price'}).text.strip()\n",
    "    \n",
    "    numbers = re.findall('[0-9]+', price)\n",
    "    price =','.join(numbers)\n",
    "\n",
    "    today = datetime.date.today()\n",
    "\n",
    "    header = ['Title', 'Price', 'Date']\n",
    "    data = [title, price, today]\n",
    "\n",
    "    with open('AmazonWebScraperDataset.csv', 'a+', newline='', encoding='UTF8') as f:\n",
    "        writer = csv.writer(f)\n",
    "        writer.writerow(data)\n",
    "\n",
    "    if (price < 18):\n",
    "        send_mail()"
   ]
  },
  {
   "cell_type": "code",
   "execution_count": null,
   "id": "8c834f79",
   "metadata": {},
   "outputs": [],
   "source": [
    "while(True):\n",
    "        check_price()\n",
    "        time.sleep(5)"
   ]
  },
  {
   "cell_type": "code",
   "execution_count": 9,
   "id": "3b31d6c5",
   "metadata": {},
   "outputs": [
    {
     "name": "stdout",
     "output_type": "stream",
     "text": [
      "                                               Title  Price        Date\n",
      "0  Remington NE3870 Nano Series Lithium - Neushaa...  20,99  2023-09-30\n",
      "1  Remington NE3870 Nano Series Lithium - Neushaa...  20,99  2023-09-30\n",
      "2  Remington NE3870 Nano Series Lithium - Neushaa...  20,99  2023-09-30\n",
      "3  Remington NE3870 Nano Series Lithium - Neushaa...  20,99  2023-09-30\n",
      "4  Remington NE3870 Nano Series Lithium - Neushaa...  20,99  2023-09-30\n",
      "5  Remington NE3870 Nano Series Lithium - Neushaa...  20,99  2023-09-30\n",
      "6  Remington NE3870 Nano Series Lithium - Neushaa...  20,99  2023-09-30\n",
      "7  Remington NE3870 Nano Series Lithium - Neushaa...  20,99  2023-09-30\n",
      "8  Remington NE3870 Nano Series Lithium - Neushaa...  20,99  2023-09-30\n",
      "9  Remington NE3870 Nano Series Lithium - Neushaa...  20,99  2023-09-30\n"
     ]
    }
   ],
   "source": [
    "df = pd.read_csv(r'C:\\Users\\ioand\\AmazonWebScraperDataset.csv')\n",
    "\n",
    "print(df)"
   ]
  },
  {
   "cell_type": "code",
   "execution_count": null,
   "id": "b0c4f8b2",
   "metadata": {},
   "outputs": [],
   "source": [
    "def send_mail():\n",
    "    server = smtplib.SMTP_SSL('smtp.gmail.com',465)\n",
    "    server.ehlo()\n",
    "    #server.starttls()\n",
    "    server.ehlo()\n",
    "    server.login('example@gmail.com','*********')\n",
    "    \n",
    "    subject = \"The Shirt you want is below $15! Now is your chance to buy!\"\n",
    "    body = \"Yoan, This is the moment we have been waiting for. Now is your chance to pick up the shirt of your dreams. Don't mess it up! Link here: https://www.bol.com/nl/nl/p/remington-ne3870-nano-series-lithium-neushaar-detailtrimmer-wenkbrauw-oorhaar-trimmer/9200000082451161/?promo=main_860_deals_for_you___product_1_9200000082451161&bltgh=nBv0qJZFTcCFncZZorBF-w.18_19_20.22.ProductImage\"\n",
    "   \n",
    "    msg = f\"Subject: {subject}\\n\\n{body}\"\n",
    "    \n",
    "    server.sendmail(\n",
    "        'example@gmail.com',\n",
    "        msg\n",
    "     \n",
    "    )"
   ]
  }
 ],
 "metadata": {
  "kernelspec": {
   "display_name": "Python 3 (ipykernel)",
   "language": "python",
   "name": "python3"
  },
  "language_info": {
   "codemirror_mode": {
    "name": "ipython",
    "version": 3
   },
   "file_extension": ".py",
   "mimetype": "text/x-python",
   "name": "python",
   "nbconvert_exporter": "python",
   "pygments_lexer": "ipython3",
   "version": "3.10.9"
  }
 },
 "nbformat": 4,
 "nbformat_minor": 5
}
